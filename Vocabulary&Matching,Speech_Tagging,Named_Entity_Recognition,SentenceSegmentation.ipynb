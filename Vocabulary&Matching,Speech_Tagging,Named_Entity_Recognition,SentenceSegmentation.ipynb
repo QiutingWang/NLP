{
  "nbformat": 4,
  "nbformat_minor": 0,
  "metadata": {
    "colab": {
      "name": "Vocabulary&Matching,Speech_Tagging,Named_Entity_Recognition,SentenceSegmentation.ipynb",
      "provenance": []
    },
    "kernelspec": {
      "name": "python3",
      "display_name": "Python 3"
    },
    "language_info": {
      "name": "python"
    }
  },
  "cells": [
    {
      "cell_type": "markdown",
      "source": [
        "#  4）Vocabulary and Matching"
      ],
      "metadata": {
        "id": "7D-Iexlb5o3v"
      }
    },
    {
      "cell_type": "markdown",
      "source": [
        "\n",
        "#    Rule-Based Matching\n",
        "\n"
      ],
      "metadata": {
        "id": "bSCT2ZLtpcu_"
      }
    },
    {
      "cell_type": "markdown",
      "source": [
        "SpaCy's rule-based matcher engine and components not only helps you find the words and phrases we are looking for, they give us access to the tokens within the document and relationships.\n",
        "We can use it to access and analyze the surrounding tokens.\n",
        "https://explosion.ai/demos/matcher"
      ],
      "metadata": {
        "id": "VtkrIQzjvqt2"
      }
    },
    {
      "cell_type": "code",
      "source": [
        "#load our model\n",
        "import spacy\n",
        "nlp=spacy.load('en_core_web_sm')"
      ],
      "metadata": {
        "id": "edtQI4TfvpnZ"
      },
      "execution_count": 151,
      "outputs": []
    },
    {
      "cell_type": "code",
      "source": [
        "#import the matcher library\n",
        "from spacy.matcher import Matcher\n",
        "matcher=Matcher(nlp.vocab) #we created matcher object and pass nlp.vocab\n",
        "#we can add/remove specific named matchers to matcher as needed"
      ],
      "metadata": {
        "id": "6pIF4m5ewWTP"
      },
      "execution_count": 152,
      "outputs": []
    },
    {
      "cell_type": "code",
      "source": [
        "#Create a list, inside add series of dictionary.Each dictionary describes one token and its attributes. \n",
        "#we can show \"hello world\" in following ways:\n",
        "#Hello World  hello World  Hello WORLD\n",
        "#Hello-World\n",
        "patterns = [\n",
        "    [{\"LOWER\": \"hello\"}, {\"IS_PUNCT\": True}, {\"LOWER\": \"world\"}],\n",
        "    [{\"LOWER\": \"hello\"}, {\"LOWER\": \"world\"}]\n",
        "]\n",
        "matcher.add(\"HelloWorld\", patterns)  #lower and is_punct are the attributes"
      ],
      "metadata": {
        "id": "S95Dv61aw2k_"
      },
      "execution_count": 153,
      "outputs": []
    },
    {
      "cell_type": "code",
      "source": [
        "#create a document\n",
        "doc=nlp(\"'Hello World' are the first two printed words for most of the programmers, printing 'Hello-World' is the most common for beginners\")"
      ],
      "metadata": {
        "id": "PBsm0G0TG0ZW"
      },
      "execution_count": 154,
      "outputs": []
    },
    {
      "cell_type": "code",
      "source": [
        "doc"
      ],
      "metadata": {
        "colab": {
          "base_uri": "https://localhost:8080/"
        },
        "id": "ApEfWoV1HPQF",
        "outputId": "12ac03b6-bd3e-4abf-e034-36932ed7deb5"
      },
      "execution_count": 155,
      "outputs": [
        {
          "output_type": "execute_result",
          "data": {
            "text/plain": [
              "'Hello World' are the first two printed words for most of the programmers, printing 'Hello-World' is the most common for beginners"
            ]
          },
          "metadata": {},
          "execution_count": 155
        }
      ]
    },
    {
      "cell_type": "markdown",
      "source": [
        "Finding the matches"
      ],
      "metadata": {
        "id": "3q42EQsEHUYF"
      }
    },
    {
      "cell_type": "code",
      "source": [
        "find_matches=matcher(doc) #passin doc to matcher object and store this in a variable\n",
        "print(find_matches) #it returns (string ID,index start,index end)"
      ],
      "metadata": {
        "colab": {
          "base_uri": "https://localhost:8080/"
        },
        "id": "3lkfnJelHTkv",
        "outputId": "a7a4679b-4ae6-478f-d09b-ff5d22d0cde3"
      },
      "execution_count": 156,
      "outputs": [
        {
          "output_type": "stream",
          "name": "stdout",
          "text": [
            "[(15578876784678163569, 1, 3), (15578876784678163569, 18, 21)]\n"
          ]
        }
      ]
    },
    {
      "cell_type": "code",
      "source": [
        "#define a function to find matchers\n",
        "for match_id,start,end in find_matches:\n",
        "  string_id=nlp.vocab.strings[match_id]\n",
        "  span=doc[start:end]\n",
        "  print(match_id, string_id,start,end,span.text)"
      ],
      "metadata": {
        "colab": {
          "base_uri": "https://localhost:8080/"
        },
        "id": "-Ts44W8GN8Re",
        "outputId": "fab94ab1-5ad3-4aaa-eb61-f30ac5f40962"
      },
      "execution_count": 157,
      "outputs": [
        {
          "output_type": "stream",
          "name": "stdout",
          "text": [
            "15578876784678163569 HelloWorld 1 3 Hello World\n",
            "15578876784678163569 HelloWorld 18 21 Hello-World\n"
          ]
        }
      ]
    },
    {
      "cell_type": "markdown",
      "source": [
        "Setting pattern options and quantifiers"
      ],
      "metadata": {
        "id": "c3W7gGCvPKoY"
      }
    },
    {
      "cell_type": "code",
      "source": [
        "#redefine patterns\n",
        "patterns1 = [\n",
        "    [{'LOWER':'hello'},{'IS_PUNCT':True,'OP':'*'},{'LOWER':'world'}],\n",
        "    [{'LOWER':'hello'},{'LOWER':'world'}]\n",
        "]\n",
        "#'OP':'*-->allow patterns to match with 0 or multiple times for any punctuation\n",
        "#add the new pattern to 'Hello World' matcher:\n",
        "matcher.add('Hello World', patterns1)"
      ],
      "metadata": {
        "id": "_wT5Drw8PJUV"
      },
      "execution_count": 158,
      "outputs": []
    },
    {
      "cell_type": "code",
      "source": [
        "doc2=nlp('You can print Hello World or hello world or Hello-World')"
      ],
      "metadata": {
        "id": "_DTAgnLLRh4a"
      },
      "execution_count": 159,
      "outputs": []
    },
    {
      "cell_type": "code",
      "source": [
        "find_matches=matcher(doc2)\n",
        "print(find_matches)"
      ],
      "metadata": {
        "colab": {
          "base_uri": "https://localhost:8080/"
        },
        "id": "f6aa9ORnR2Fi",
        "outputId": "c3245c3b-e29a-48af-bb07-c1f5cd477527"
      },
      "execution_count": 160,
      "outputs": [
        {
          "output_type": "stream",
          "name": "stdout",
          "text": [
            "[(15578876784678163569, 3, 5), (8585552006568828647, 3, 5), (15578876784678163569, 6, 8), (8585552006568828647, 6, 8), (15578876784678163569, 9, 12), (8585552006568828647, 9, 12)]\n"
          ]
        }
      ]
    },
    {
      "cell_type": "markdown",
      "source": [
        "\n",
        "#Phrase Matching\n",
        "\n",
        "\n",
        "\n",
        "\n",
        "\n"
      ],
      "metadata": {
        "id": "voZKOx5v56Yj"
      }
    },
    {
      "cell_type": "code",
      "source": [
        "#import the phrase library\n",
        "import spacy\n",
        "nlp=spacy.load('en_core_web_sm')\n",
        "from spacy.matcher import PhraseMatcher\n",
        "matcher=PhraseMatcher(nlp.vocab)"
      ],
      "metadata": {
        "id": "Fwu6-NYoSKM2"
      },
      "execution_count": 161,
      "outputs": []
    },
    {
      "cell_type": "code",
      "source": [
        "phrase_list=['Barack Obama','Angela Merkel','Washington, D.C.']"
      ],
      "metadata": {
        "id": "0sWC_WC3TgKr"
      },
      "execution_count": 162,
      "outputs": []
    },
    {
      "cell_type": "code",
      "source": [
        "#convert each phrase to a document object,using list comprehension\n",
        "phrase_patterns=[nlp(text) for text in phrase_list]"
      ],
      "metadata": {
        "id": "sJ3iB24fTs4y"
      },
      "execution_count": 163,
      "outputs": []
    },
    {
      "cell_type": "code",
      "source": [
        "phrase_patterns #not string"
      ],
      "metadata": {
        "colab": {
          "base_uri": "https://localhost:8080/"
        },
        "id": "7hNpfvWXcfnC",
        "outputId": "f52ee62f-1625-4179-e87a-fb47ab89b05b"
      },
      "execution_count": 164,
      "outputs": [
        {
          "output_type": "execute_result",
          "data": {
            "text/plain": [
              "[Barack Obama, Angela Merkel, Washington, D.C.]"
            ]
          },
          "metadata": {},
          "execution_count": 164
        }
      ]
    },
    {
      "cell_type": "code",
      "source": [
        "type(phrase_patterns[0]) "
      ],
      "metadata": {
        "colab": {
          "base_uri": "https://localhost:8080/"
        },
        "id": "einvryVIcpKq",
        "outputId": "c8d1f8df-fc42-4747-f831-66306b2b84b2"
      },
      "execution_count": 165,
      "outputs": [
        {
          "output_type": "execute_result",
          "data": {
            "text/plain": [
              "spacy.tokens.doc.Doc"
            ]
          },
          "metadata": {},
          "execution_count": 165
        }
      ]
    },
    {
      "cell_type": "code",
      "source": [
        "#pass each doc object into the matcher\n",
        "matcher.add('TerminologyList',None,*phrase_patterns)"
      ],
      "metadata": {
        "id": "0T1SE6GKc0qe"
      },
      "execution_count": 166,
      "outputs": []
    },
    {
      "cell_type": "code",
      "source": [
        "doc3=nlp('German Chancellor Angela Merkel and US President Barack Obama'\n",
        "          'converse in the Ovel Office inside the White House in Washington,D.C.')"
      ],
      "metadata": {
        "id": "FvRslV11dPwf"
      },
      "execution_count": 167,
      "outputs": []
    },
    {
      "cell_type": "code",
      "source": [
        "find_matches=matcher(doc3)\n",
        "print(find_matches)"
      ],
      "metadata": {
        "colab": {
          "base_uri": "https://localhost:8080/"
        },
        "id": "AgdHvb1sdP5k",
        "outputId": "b4dea596-f53a-4575-acf1-b5c963f79a4a"
      },
      "execution_count": 168,
      "outputs": [
        {
          "output_type": "stream",
          "name": "stdout",
          "text": [
            "[(3766102292120407359, 2, 4), (3766102292120407359, 18, 21)]\n"
          ]
        }
      ]
    },
    {
      "cell_type": "code",
      "source": [
        "#define a function to find the matches\n",
        "for match_id, start,end in find_matches:\n",
        "  string_id=nlp.vocab.strings[match_id]\n",
        "  span=doc3[start:end] #get matched span\n",
        "  print(match_id,string_id,start,end ,span.text)"
      ],
      "metadata": {
        "colab": {
          "base_uri": "https://localhost:8080/"
        },
        "id": "3yV94NS_dQB9",
        "outputId": "f8eefe63-77a4-4a0e-adbf-c38c578854ee"
      },
      "execution_count": 169,
      "outputs": [
        {
          "output_type": "stream",
          "name": "stdout",
          "text": [
            "3766102292120407359 TerminologyList 2 4 Angela Merkel\n",
            "3766102292120407359 TerminologyList 18 21 Washington,D.C.\n"
          ]
        }
      ]
    },
    {
      "cell_type": "markdown",
      "source": [
        "# 5)Speech Tagging"
      ],
      "metadata": {
        "id": "YUy_IHZHliko"
      }
    },
    {
      "cell_type": "markdown",
      "source": [
        "# POS Tagging"
      ],
      "metadata": {
        "id": "GrceD1LXlo7x"
      }
    },
    {
      "cell_type": "code",
      "source": [
        "s1='Apple is looking at buying U.K. startup for $1 billion'"
      ],
      "metadata": {
        "id": "DL2i2oVHlmX4"
      },
      "execution_count": 170,
      "outputs": []
    },
    {
      "cell_type": "code",
      "source": [
        "import spacy\n",
        "nlp=spacy.load(name='en_core_web_sm')"
      ],
      "metadata": {
        "id": "hLdjOGDbl0Of"
      },
      "execution_count": 171,
      "outputs": []
    },
    {
      "cell_type": "code",
      "source": [
        "doc=nlp(s1)\n",
        "for token in doc:\n",
        "  print(token.text,token.pos_,token.tag_,spacy.explain(token.tag_)) #token.tag_:assigned attributes,get the string\n",
        "  #pos:The token’s universal part of speech "
      ],
      "metadata": {
        "colab": {
          "base_uri": "https://localhost:8080/"
        },
        "id": "-mrnC7WLl9m0",
        "outputId": "53e24e83-6da2-48cd-e1f0-158871aa26da"
      },
      "execution_count": 172,
      "outputs": [
        {
          "output_type": "stream",
          "name": "stdout",
          "text": [
            "Apple PROPN NNP noun, proper singular\n",
            "is AUX VBZ verb, 3rd person singular present\n",
            "looking VERB VBG verb, gerund or present participle\n",
            "at ADP IN conjunction, subordinating or preposition\n",
            "buying VERB VBG verb, gerund or present participle\n",
            "U.K. PROPN NNP noun, proper singular\n",
            "startup NOUN NN noun, singular or mass\n",
            "for ADP IN conjunction, subordinating or preposition\n",
            "$ SYM $ symbol, currency\n",
            "1 NUM CD cardinal number\n",
            "billion NUM CD cardinal number\n"
          ]
        }
      ]
    },
    {
      "cell_type": "code",
      "source": [
        "for key,val in doc.count_by(spacy.attrs.POS).items():\n",
        "  print(key,doc.vocab[key].text,val)"
      ],
      "metadata": {
        "colab": {
          "base_uri": "https://localhost:8080/"
        },
        "id": "VMyHjDLymeBV",
        "outputId": "89f694f1-2fbe-40a8-d11f-ad0108bfdd5a"
      },
      "execution_count": 173,
      "outputs": [
        {
          "output_type": "stream",
          "name": "stdout",
          "text": [
            "96 PROPN 2\n",
            "87 AUX 1\n",
            "100 VERB 2\n",
            "85 ADP 2\n",
            "92 NOUN 1\n",
            "99 SYM 1\n",
            "93 NUM 2\n"
          ]
        }
      ]
    },
    {
      "cell_type": "code",
      "source": [
        "from spacy import displacy"
      ],
      "metadata": {
        "id": "OKlCPZoAoYtD"
      },
      "execution_count": 174,
      "outputs": []
    },
    {
      "cell_type": "code",
      "source": [
        "displacy.render(docs=doc,style='dep',options={'distance':100},jupyter=True)"
      ],
      "metadata": {
        "colab": {
          "base_uri": "https://localhost:8080/",
          "height": 308
        },
        "id": "kZ7UKxHsonXq",
        "outputId": "9749a9f6-d07c-4c3f-db62-b37c231bdd8d"
      },
      "execution_count": 175,
      "outputs": [
        {
          "output_type": "display_data",
          "data": {
            "text/plain": [
              "<IPython.core.display.HTML object>"
            ],
            "text/html": [
              "<span class=\"tex2jax_ignore\"><svg xmlns=\"http://www.w3.org/2000/svg\" xmlns:xlink=\"http://www.w3.org/1999/xlink\" xml:lang=\"en\" id=\"e31314a2d8894f3bb8dc96c14b4b42ca-0\" class=\"displacy\" width=\"1150\" height=\"287.0\" direction=\"ltr\" style=\"max-width: none; height: 287.0px; color: #000000; background: #ffffff; font-family: Arial; direction: ltr\">\n",
              "<text class=\"displacy-token\" fill=\"currentColor\" text-anchor=\"middle\" y=\"197.0\">\n",
              "    <tspan class=\"displacy-word\" fill=\"currentColor\" x=\"50\">Apple</tspan>\n",
              "    <tspan class=\"displacy-tag\" dy=\"2em\" fill=\"currentColor\" x=\"50\">PROPN</tspan>\n",
              "</text>\n",
              "\n",
              "<text class=\"displacy-token\" fill=\"currentColor\" text-anchor=\"middle\" y=\"197.0\">\n",
              "    <tspan class=\"displacy-word\" fill=\"currentColor\" x=\"150\">is</tspan>\n",
              "    <tspan class=\"displacy-tag\" dy=\"2em\" fill=\"currentColor\" x=\"150\">AUX</tspan>\n",
              "</text>\n",
              "\n",
              "<text class=\"displacy-token\" fill=\"currentColor\" text-anchor=\"middle\" y=\"197.0\">\n",
              "    <tspan class=\"displacy-word\" fill=\"currentColor\" x=\"250\">looking</tspan>\n",
              "    <tspan class=\"displacy-tag\" dy=\"2em\" fill=\"currentColor\" x=\"250\">VERB</tspan>\n",
              "</text>\n",
              "\n",
              "<text class=\"displacy-token\" fill=\"currentColor\" text-anchor=\"middle\" y=\"197.0\">\n",
              "    <tspan class=\"displacy-word\" fill=\"currentColor\" x=\"350\">at</tspan>\n",
              "    <tspan class=\"displacy-tag\" dy=\"2em\" fill=\"currentColor\" x=\"350\">ADP</tspan>\n",
              "</text>\n",
              "\n",
              "<text class=\"displacy-token\" fill=\"currentColor\" text-anchor=\"middle\" y=\"197.0\">\n",
              "    <tspan class=\"displacy-word\" fill=\"currentColor\" x=\"450\">buying</tspan>\n",
              "    <tspan class=\"displacy-tag\" dy=\"2em\" fill=\"currentColor\" x=\"450\">VERB</tspan>\n",
              "</text>\n",
              "\n",
              "<text class=\"displacy-token\" fill=\"currentColor\" text-anchor=\"middle\" y=\"197.0\">\n",
              "    <tspan class=\"displacy-word\" fill=\"currentColor\" x=\"550\">U.K.</tspan>\n",
              "    <tspan class=\"displacy-tag\" dy=\"2em\" fill=\"currentColor\" x=\"550\">PROPN</tspan>\n",
              "</text>\n",
              "\n",
              "<text class=\"displacy-token\" fill=\"currentColor\" text-anchor=\"middle\" y=\"197.0\">\n",
              "    <tspan class=\"displacy-word\" fill=\"currentColor\" x=\"650\">startup</tspan>\n",
              "    <tspan class=\"displacy-tag\" dy=\"2em\" fill=\"currentColor\" x=\"650\">NOUN</tspan>\n",
              "</text>\n",
              "\n",
              "<text class=\"displacy-token\" fill=\"currentColor\" text-anchor=\"middle\" y=\"197.0\">\n",
              "    <tspan class=\"displacy-word\" fill=\"currentColor\" x=\"750\">for</tspan>\n",
              "    <tspan class=\"displacy-tag\" dy=\"2em\" fill=\"currentColor\" x=\"750\">ADP</tspan>\n",
              "</text>\n",
              "\n",
              "<text class=\"displacy-token\" fill=\"currentColor\" text-anchor=\"middle\" y=\"197.0\">\n",
              "    <tspan class=\"displacy-word\" fill=\"currentColor\" x=\"850\">$</tspan>\n",
              "    <tspan class=\"displacy-tag\" dy=\"2em\" fill=\"currentColor\" x=\"850\">SYM</tspan>\n",
              "</text>\n",
              "\n",
              "<text class=\"displacy-token\" fill=\"currentColor\" text-anchor=\"middle\" y=\"197.0\">\n",
              "    <tspan class=\"displacy-word\" fill=\"currentColor\" x=\"950\">1</tspan>\n",
              "    <tspan class=\"displacy-tag\" dy=\"2em\" fill=\"currentColor\" x=\"950\">NUM</tspan>\n",
              "</text>\n",
              "\n",
              "<text class=\"displacy-token\" fill=\"currentColor\" text-anchor=\"middle\" y=\"197.0\">\n",
              "    <tspan class=\"displacy-word\" fill=\"currentColor\" x=\"1050\">billion</tspan>\n",
              "    <tspan class=\"displacy-tag\" dy=\"2em\" fill=\"currentColor\" x=\"1050\">NUM</tspan>\n",
              "</text>\n",
              "\n",
              "<g class=\"displacy-arrow\">\n",
              "    <path class=\"displacy-arc\" id=\"arrow-e31314a2d8894f3bb8dc96c14b4b42ca-0-0\" stroke-width=\"2px\" d=\"M70,152.0 C70,52.0 245.0,52.0 245.0,152.0\" fill=\"none\" stroke=\"currentColor\"/>\n",
              "    <text dy=\"1.25em\" style=\"font-size: 0.8em; letter-spacing: 1px\">\n",
              "        <textPath xlink:href=\"#arrow-e31314a2d8894f3bb8dc96c14b4b42ca-0-0\" class=\"displacy-label\" startOffset=\"50%\" side=\"left\" fill=\"currentColor\" text-anchor=\"middle\">nsubj</textPath>\n",
              "    </text>\n",
              "    <path class=\"displacy-arrowhead\" d=\"M70,154.0 L62,142.0 78,142.0\" fill=\"currentColor\"/>\n",
              "</g>\n",
              "\n",
              "<g class=\"displacy-arrow\">\n",
              "    <path class=\"displacy-arc\" id=\"arrow-e31314a2d8894f3bb8dc96c14b4b42ca-0-1\" stroke-width=\"2px\" d=\"M170,152.0 C170,102.0 240.0,102.0 240.0,152.0\" fill=\"none\" stroke=\"currentColor\"/>\n",
              "    <text dy=\"1.25em\" style=\"font-size: 0.8em; letter-spacing: 1px\">\n",
              "        <textPath xlink:href=\"#arrow-e31314a2d8894f3bb8dc96c14b4b42ca-0-1\" class=\"displacy-label\" startOffset=\"50%\" side=\"left\" fill=\"currentColor\" text-anchor=\"middle\">aux</textPath>\n",
              "    </text>\n",
              "    <path class=\"displacy-arrowhead\" d=\"M170,154.0 L162,142.0 178,142.0\" fill=\"currentColor\"/>\n",
              "</g>\n",
              "\n",
              "<g class=\"displacy-arrow\">\n",
              "    <path class=\"displacy-arc\" id=\"arrow-e31314a2d8894f3bb8dc96c14b4b42ca-0-2\" stroke-width=\"2px\" d=\"M270,152.0 C270,102.0 340.0,102.0 340.0,152.0\" fill=\"none\" stroke=\"currentColor\"/>\n",
              "    <text dy=\"1.25em\" style=\"font-size: 0.8em; letter-spacing: 1px\">\n",
              "        <textPath xlink:href=\"#arrow-e31314a2d8894f3bb8dc96c14b4b42ca-0-2\" class=\"displacy-label\" startOffset=\"50%\" side=\"left\" fill=\"currentColor\" text-anchor=\"middle\">prep</textPath>\n",
              "    </text>\n",
              "    <path class=\"displacy-arrowhead\" d=\"M340.0,154.0 L348.0,142.0 332.0,142.0\" fill=\"currentColor\"/>\n",
              "</g>\n",
              "\n",
              "<g class=\"displacy-arrow\">\n",
              "    <path class=\"displacy-arc\" id=\"arrow-e31314a2d8894f3bb8dc96c14b4b42ca-0-3\" stroke-width=\"2px\" d=\"M370,152.0 C370,102.0 440.0,102.0 440.0,152.0\" fill=\"none\" stroke=\"currentColor\"/>\n",
              "    <text dy=\"1.25em\" style=\"font-size: 0.8em; letter-spacing: 1px\">\n",
              "        <textPath xlink:href=\"#arrow-e31314a2d8894f3bb8dc96c14b4b42ca-0-3\" class=\"displacy-label\" startOffset=\"50%\" side=\"left\" fill=\"currentColor\" text-anchor=\"middle\">pcomp</textPath>\n",
              "    </text>\n",
              "    <path class=\"displacy-arrowhead\" d=\"M440.0,154.0 L448.0,142.0 432.0,142.0\" fill=\"currentColor\"/>\n",
              "</g>\n",
              "\n",
              "<g class=\"displacy-arrow\">\n",
              "    <path class=\"displacy-arc\" id=\"arrow-e31314a2d8894f3bb8dc96c14b4b42ca-0-4\" stroke-width=\"2px\" d=\"M470,152.0 C470,102.0 540.0,102.0 540.0,152.0\" fill=\"none\" stroke=\"currentColor\"/>\n",
              "    <text dy=\"1.25em\" style=\"font-size: 0.8em; letter-spacing: 1px\">\n",
              "        <textPath xlink:href=\"#arrow-e31314a2d8894f3bb8dc96c14b4b42ca-0-4\" class=\"displacy-label\" startOffset=\"50%\" side=\"left\" fill=\"currentColor\" text-anchor=\"middle\">dobj</textPath>\n",
              "    </text>\n",
              "    <path class=\"displacy-arrowhead\" d=\"M540.0,154.0 L548.0,142.0 532.0,142.0\" fill=\"currentColor\"/>\n",
              "</g>\n",
              "\n",
              "<g class=\"displacy-arrow\">\n",
              "    <path class=\"displacy-arc\" id=\"arrow-e31314a2d8894f3bb8dc96c14b4b42ca-0-5\" stroke-width=\"2px\" d=\"M470,152.0 C470,52.0 645.0,52.0 645.0,152.0\" fill=\"none\" stroke=\"currentColor\"/>\n",
              "    <text dy=\"1.25em\" style=\"font-size: 0.8em; letter-spacing: 1px\">\n",
              "        <textPath xlink:href=\"#arrow-e31314a2d8894f3bb8dc96c14b4b42ca-0-5\" class=\"displacy-label\" startOffset=\"50%\" side=\"left\" fill=\"currentColor\" text-anchor=\"middle\">dobj</textPath>\n",
              "    </text>\n",
              "    <path class=\"displacy-arrowhead\" d=\"M645.0,154.0 L653.0,142.0 637.0,142.0\" fill=\"currentColor\"/>\n",
              "</g>\n",
              "\n",
              "<g class=\"displacy-arrow\">\n",
              "    <path class=\"displacy-arc\" id=\"arrow-e31314a2d8894f3bb8dc96c14b4b42ca-0-6\" stroke-width=\"2px\" d=\"M670,152.0 C670,102.0 740.0,102.0 740.0,152.0\" fill=\"none\" stroke=\"currentColor\"/>\n",
              "    <text dy=\"1.25em\" style=\"font-size: 0.8em; letter-spacing: 1px\">\n",
              "        <textPath xlink:href=\"#arrow-e31314a2d8894f3bb8dc96c14b4b42ca-0-6\" class=\"displacy-label\" startOffset=\"50%\" side=\"left\" fill=\"currentColor\" text-anchor=\"middle\">prep</textPath>\n",
              "    </text>\n",
              "    <path class=\"displacy-arrowhead\" d=\"M740.0,154.0 L748.0,142.0 732.0,142.0\" fill=\"currentColor\"/>\n",
              "</g>\n",
              "\n",
              "<g class=\"displacy-arrow\">\n",
              "    <path class=\"displacy-arc\" id=\"arrow-e31314a2d8894f3bb8dc96c14b4b42ca-0-7\" stroke-width=\"2px\" d=\"M870,152.0 C870,52.0 1045.0,52.0 1045.0,152.0\" fill=\"none\" stroke=\"currentColor\"/>\n",
              "    <text dy=\"1.25em\" style=\"font-size: 0.8em; letter-spacing: 1px\">\n",
              "        <textPath xlink:href=\"#arrow-e31314a2d8894f3bb8dc96c14b4b42ca-0-7\" class=\"displacy-label\" startOffset=\"50%\" side=\"left\" fill=\"currentColor\" text-anchor=\"middle\">quantmod</textPath>\n",
              "    </text>\n",
              "    <path class=\"displacy-arrowhead\" d=\"M870,154.0 L862,142.0 878,142.0\" fill=\"currentColor\"/>\n",
              "</g>\n",
              "\n",
              "<g class=\"displacy-arrow\">\n",
              "    <path class=\"displacy-arc\" id=\"arrow-e31314a2d8894f3bb8dc96c14b4b42ca-0-8\" stroke-width=\"2px\" d=\"M970,152.0 C970,102.0 1040.0,102.0 1040.0,152.0\" fill=\"none\" stroke=\"currentColor\"/>\n",
              "    <text dy=\"1.25em\" style=\"font-size: 0.8em; letter-spacing: 1px\">\n",
              "        <textPath xlink:href=\"#arrow-e31314a2d8894f3bb8dc96c14b4b42ca-0-8\" class=\"displacy-label\" startOffset=\"50%\" side=\"left\" fill=\"currentColor\" text-anchor=\"middle\">compound</textPath>\n",
              "    </text>\n",
              "    <path class=\"displacy-arrowhead\" d=\"M970,154.0 L962,142.0 978,142.0\" fill=\"currentColor\"/>\n",
              "</g>\n",
              "\n",
              "<g class=\"displacy-arrow\">\n",
              "    <path class=\"displacy-arc\" id=\"arrow-e31314a2d8894f3bb8dc96c14b4b42ca-0-9\" stroke-width=\"2px\" d=\"M770,152.0 C770,2.0 1050.0,2.0 1050.0,152.0\" fill=\"none\" stroke=\"currentColor\"/>\n",
              "    <text dy=\"1.25em\" style=\"font-size: 0.8em; letter-spacing: 1px\">\n",
              "        <textPath xlink:href=\"#arrow-e31314a2d8894f3bb8dc96c14b4b42ca-0-9\" class=\"displacy-label\" startOffset=\"50%\" side=\"left\" fill=\"currentColor\" text-anchor=\"middle\">pobj</textPath>\n",
              "    </text>\n",
              "    <path class=\"displacy-arrowhead\" d=\"M1050.0,154.0 L1058.0,142.0 1042.0,142.0\" fill=\"currentColor\"/>\n",
              "</g>\n",
              "</svg></span>"
            ]
          },
          "metadata": {}
        }
      ]
    },
    {
      "cell_type": "markdown",
      "source": [
        "# 6)Named Entity Recognition"
      ],
      "metadata": {
        "id": "-aqf3qqTpTbA"
      }
    },
    {
      "cell_type": "markdown",
      "source": [
        "https://spacy.io/usage/linguistic-features#named-entities\n",
        "\n",
        "Identify a variety of named and numeric entities, including companies, locations, organizations and products,by asking the model for a prediction."
      ],
      "metadata": {
        "id": "CdN0URThrBIO"
      }
    },
    {
      "cell_type": "code",
      "source": [
        "s1='Apple is looking at buying U.K. startup for $1 billion'\n",
        "s2='San Francisco considers banning sidewalk delivery robots'\n",
        "s3='facebook is hiring a new vice president in U.S.'"
      ],
      "metadata": {
        "id": "kJSUe1YqonfZ"
      },
      "execution_count": 176,
      "outputs": []
    },
    {
      "cell_type": "code",
      "source": [
        "import spacy\n",
        "nlp=spacy.load(name='en_core_web_sm')"
      ],
      "metadata": {
        "id": "-cx9X2ihonkz"
      },
      "execution_count": 177,
      "outputs": []
    },
    {
      "cell_type": "code",
      "source": [
        "doc5=nlp(s1)\n",
        "doc5.ents  #Named entities are available as the ents property of a Doc"
      ],
      "metadata": {
        "colab": {
          "base_uri": "https://localhost:8080/"
        },
        "id": "eOE7mxDvqhiz",
        "outputId": "79bbff6b-5549-4603-f70a-1f9e37e9b7cd"
      },
      "execution_count": 178,
      "outputs": [
        {
          "output_type": "execute_result",
          "data": {
            "text/plain": [
              "(Apple, U.K., $1 billion)"
            ]
          },
          "metadata": {},
          "execution_count": 178
        }
      ]
    },
    {
      "cell_type": "code",
      "source": [
        "for ent in doc5.ents:\n",
        "  print(ent.text,ent.label_,str(spacy.explain(ent.label_)))"
      ],
      "metadata": {
        "colab": {
          "base_uri": "https://localhost:8080/"
        },
        "id": "DabQv0aWqhnY",
        "outputId": "0dc15489-a654-40af-85a8-b6b7e8c249cd"
      },
      "execution_count": 179,
      "outputs": [
        {
          "output_type": "stream",
          "name": "stdout",
          "text": [
            "Apple ORG Companies, agencies, institutions, etc.\n",
            "U.K. GPE Countries, cities, states\n",
            "$1 billion MONEY Monetary values, including unit\n"
          ]
        }
      ]
    },
    {
      "cell_type": "code",
      "source": [
        "doc6=nlp(s2)\n",
        "doc6.ents"
      ],
      "metadata": {
        "colab": {
          "base_uri": "https://localhost:8080/"
        },
        "id": "6hac-W4ZqhqS",
        "outputId": "f5ab0e36-5510-4115-c4de-dc675927d0e3"
      },
      "execution_count": 180,
      "outputs": [
        {
          "output_type": "execute_result",
          "data": {
            "text/plain": [
              "(San Francisco,)"
            ]
          },
          "metadata": {},
          "execution_count": 180
        }
      ]
    },
    {
      "cell_type": "code",
      "source": [
        "for ent in doc6.ents:\n",
        "  print(ent.text,ent.label_,str(spacy.explain(ent.label_)))"
      ],
      "metadata": {
        "colab": {
          "base_uri": "https://localhost:8080/"
        },
        "id": "zJGy6n5rqhsn",
        "outputId": "bcddd1f6-e53a-4a14-d0ad-ccce68466e40"
      },
      "execution_count": 181,
      "outputs": [
        {
          "output_type": "stream",
          "name": "stdout",
          "text": [
            "San Francisco GPE Countries, cities, states\n"
          ]
        }
      ]
    },
    {
      "cell_type": "code",
      "source": [
        "doc7=nlp(s3)\n",
        "doc7.ents"
      ],
      "metadata": {
        "colab": {
          "base_uri": "https://localhost:8080/"
        },
        "id": "rsmJ5Ty-qhu2",
        "outputId": "f21cea29-fef9-4c58-c906-d9aef3597125"
      },
      "execution_count": 182,
      "outputs": [
        {
          "output_type": "execute_result",
          "data": {
            "text/plain": [
              "(U.S.,)"
            ]
          },
          "metadata": {},
          "execution_count": 182
        }
      ]
    },
    {
      "cell_type": "code",
      "source": [
        "for ent in doc7.ents:\n",
        "  print(ent.text,ent.label_,str(spacy.explain(ent.label_)))\n",
        "#however, this time it doesn't count facebook as an entity"
      ],
      "metadata": {
        "colab": {
          "base_uri": "https://localhost:8080/"
        },
        "id": "PqHzdSE7qhxm",
        "outputId": "789087a7-9cd4-4263-d3dc-4b45f330306d"
      },
      "execution_count": 183,
      "outputs": [
        {
          "output_type": "stream",
          "name": "stdout",
          "text": [
            "U.S. GPE Countries, cities, states\n"
          ]
        }
      ]
    },
    {
      "cell_type": "code",
      "source": [
        "ORG=doc7.vocab.strings['ORG']\n",
        "from spacy.tokens import Span\n",
        "new_ent=Span(doc3,0,1,label=ORG)\n",
        "doc7.ents=list(doc7.ents)+[new_ent]"
      ],
      "metadata": {
        "id": "9NN0VpOVstfu"
      },
      "execution_count": 184,
      "outputs": []
    },
    {
      "cell_type": "code",
      "source": [
        "doc7.ents"
      ],
      "metadata": {
        "colab": {
          "base_uri": "https://localhost:8080/"
        },
        "id": "mCGJa3_5sth9",
        "outputId": "4f957cc7-467c-4602-f2cb-512cc6ac48aa"
      },
      "execution_count": 185,
      "outputs": [
        {
          "output_type": "execute_result",
          "data": {
            "text/plain": [
              "(facebook, U.S.)"
            ]
          },
          "metadata": {},
          "execution_count": 185
        }
      ]
    },
    {
      "cell_type": "code",
      "source": [
        "from spacy import displacy\n",
        "displacy.render(docs=doc5,style='ent',jupyter=True)"
      ],
      "metadata": {
        "colab": {
          "base_uri": "https://localhost:8080/",
          "height": 52
        },
        "id": "IwDz-XhqstkL",
        "outputId": "d61fc546-9b81-40c8-b2af-3e957338e40c"
      },
      "execution_count": 186,
      "outputs": [
        {
          "output_type": "display_data",
          "data": {
            "text/plain": [
              "<IPython.core.display.HTML object>"
            ],
            "text/html": [
              "<span class=\"tex2jax_ignore\"><div class=\"entities\" style=\"line-height: 2.5; direction: ltr\">\n",
              "<mark class=\"entity\" style=\"background: #7aecec; padding: 0.45em 0.6em; margin: 0 0.25em; line-height: 1; border-radius: 0.35em;\">\n",
              "    Apple\n",
              "    <span style=\"font-size: 0.8em; font-weight: bold; line-height: 1; border-radius: 0.35em; vertical-align: middle; margin-left: 0.5rem\">ORG</span>\n",
              "</mark>\n",
              " is looking at buying \n",
              "<mark class=\"entity\" style=\"background: #feca74; padding: 0.45em 0.6em; margin: 0 0.25em; line-height: 1; border-radius: 0.35em;\">\n",
              "    U.K.\n",
              "    <span style=\"font-size: 0.8em; font-weight: bold; line-height: 1; border-radius: 0.35em; vertical-align: middle; margin-left: 0.5rem\">GPE</span>\n",
              "</mark>\n",
              " startup for \n",
              "<mark class=\"entity\" style=\"background: #e4e7d2; padding: 0.45em 0.6em; margin: 0 0.25em; line-height: 1; border-radius: 0.35em;\">\n",
              "    $1 billion\n",
              "    <span style=\"font-size: 0.8em; font-weight: bold; line-height: 1; border-radius: 0.35em; vertical-align: middle; margin-left: 0.5rem\">MONEY</span>\n",
              "</mark>\n",
              "</div></span>"
            ]
          },
          "metadata": {}
        }
      ]
    },
    {
      "cell_type": "code",
      "source": [
        "displacy.render(docs=doc5,style='ent',options={'ents':['ORG']},jupyter=True)"
      ],
      "metadata": {
        "colab": {
          "base_uri": "https://localhost:8080/",
          "height": 52
        },
        "id": "p3jYzwpWstmd",
        "outputId": "66b48a7d-6aed-4e5a-b479-ede7f246b50a"
      },
      "execution_count": 187,
      "outputs": [
        {
          "output_type": "display_data",
          "data": {
            "text/plain": [
              "<IPython.core.display.HTML object>"
            ],
            "text/html": [
              "<span class=\"tex2jax_ignore\"><div class=\"entities\" style=\"line-height: 2.5; direction: ltr\">\n",
              "<mark class=\"entity\" style=\"background: #7aecec; padding: 0.45em 0.6em; margin: 0 0.25em; line-height: 1; border-radius: 0.35em;\">\n",
              "    Apple\n",
              "    <span style=\"font-size: 0.8em; font-weight: bold; line-height: 1; border-radius: 0.35em; vertical-align: middle; margin-left: 0.5rem\">ORG</span>\n",
              "</mark>\n",
              " is looking at buying U.K. startup for $1 billion</div></span>"
            ]
          },
          "metadata": {}
        }
      ]
    },
    {
      "cell_type": "markdown",
      "source": [
        "# 7)Sentence Segmentation "
      ],
      "metadata": {
        "id": "meQ693vNuxS2"
      }
    },
    {
      "cell_type": "code",
      "source": [
        "s4='This is a sentence.This is second sentence. This is last sentence.'\n",
        "s5='This is a sentence;This is second sentence;This is last sentence.'"
      ],
      "metadata": {
        "id": "SNnIei9ru06X"
      },
      "execution_count": 188,
      "outputs": []
    },
    {
      "cell_type": "code",
      "source": [
        "import spacy\n",
        "nlp=spacy.load(name='en_core_web_sm')"
      ],
      "metadata": {
        "id": "b0Q24fzQu1EQ"
      },
      "execution_count": 189,
      "outputs": []
    },
    {
      "cell_type": "code",
      "source": [
        "doc8=nlp(s4)"
      ],
      "metadata": {
        "id": "cXNjxiaou1G-"
      },
      "execution_count": 190,
      "outputs": []
    },
    {
      "cell_type": "code",
      "source": [
        "for sent in doc8.sents:\n",
        "  print(sent.text)"
      ],
      "metadata": {
        "colab": {
          "base_uri": "https://localhost:8080/"
        },
        "id": "c7pc5D57u1JB",
        "outputId": "aad75dc7-ea11-4646-f06c-d6ab15b0b4eb"
      },
      "execution_count": 191,
      "outputs": [
        {
          "output_type": "stream",
          "name": "stdout",
          "text": [
            "This is a sentence.\n",
            "This is second sentence.\n",
            "This is last sentence.\n"
          ]
        }
      ]
    },
    {
      "cell_type": "code",
      "source": [
        "s6='This is a sentence.This is second U.K. sentence. This is last sentence.'"
      ],
      "metadata": {
        "id": "9vwMcZ-qvQxE"
      },
      "execution_count": 192,
      "outputs": []
    },
    {
      "cell_type": "code",
      "source": [
        "doc9=nlp(s6)\n",
        "for sent in doc9.sents:\n",
        "  print(sent.text)  #even if there exists a dot in U.K., the sentence still does not split."
      ],
      "metadata": {
        "colab": {
          "base_uri": "https://localhost:8080/"
        },
        "id": "PT6BjBG2vQ4m",
        "outputId": "f75649dd-1da0-48b3-c430-0639765ff5ef"
      },
      "execution_count": 193,
      "outputs": [
        {
          "output_type": "stream",
          "name": "stdout",
          "text": [
            "This is a sentence.\n",
            "This is second U.K. sentence.\n",
            "This is last sentence.\n"
          ]
        }
      ]
    },
    {
      "cell_type": "code",
      "source": [
        "doc10=nlp(s5)\n",
        "for sent in doc10.sents:\n",
        "  print(sent.text) #we get the whole sentence"
      ],
      "metadata": {
        "colab": {
          "base_uri": "https://localhost:8080/"
        },
        "id": "rcYq0PYmvQ7G",
        "outputId": "95452ecb-78e0-47f7-a870-3e08adf3f0e9"
      },
      "execution_count": 194,
      "outputs": [
        {
          "output_type": "stream",
          "name": "stdout",
          "text": [
            "This is a sentence;This is second\n",
            "sentence;This is last sentence.\n"
          ]
        }
      ]
    },
    {
      "cell_type": "code",
      "source": [
        "def set_custom_boundaries(doc):\n",
        "  for token in doc[:-1]:\n",
        "    if token.text==';':\n",
        "     print(token.i)\n",
        "    doc[token.i+1].is_sent_start=True #set the start of the new sentence\n",
        "    return doc"
      ],
      "metadata": {
        "id": "RyovkudJvQ9I"
      },
      "execution_count": 195,
      "outputs": []
    }
  ]
}