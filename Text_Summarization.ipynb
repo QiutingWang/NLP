{
  "nbformat": 4,
  "nbformat_minor": 0,
  "metadata": {
    "colab": {
      "name": "Text Summarization.ipynb",
      "provenance": []
    },
    "kernelspec": {
      "name": "python3",
      "display_name": "Python 3"
    },
    "language_info": {
      "name": "python"
    }
  },
  "cells": [
    {
      "cell_type": "markdown",
      "source": [
        "# Text Summarization"
      ],
      "metadata": {
        "id": "I-P7tcb5veKU"
      }
    },
    {
      "cell_type": "code",
      "source": [
        "text=\"\"\"Maria Sharapova has basically no friends as tennis players on the WTA Tour. The Russian has no problems in openly speaking about it and in a recent interview she said: 'I don't really hide any feelings too much.\n",
        "I think everyone knows this is my job here. When I'm on the courts or when I'm on the court playing, I'm a competitor and I want to beat every single person whether they're in the locker room or across the net.\n",
        "So I'm not the one to strike up a conversation about the weather and know that in the next few minutes I have to go and try to win a tennis match. I'm a pretty competitive girl. I say my hellos, but I'm not sending any players flowers as well.\n",
        "I'm not really friendly or close to many players. I have not a lot of friends away from the courts.' When she said she is not really close to a lot of players, is that something strategic that she is doing? Is it different on the men's tour than the women's tour? 'No, not at all.\n",
        "I think just because you're in the same sport doesn't mean that you have to be friends with everyone just because you're categorized, you're a tennis player, so you're going to get along with tennis players.\n",
        "I think every person has different interests. I have friends that have completely different jobs and interests, and I've met them in very different parts of my life. I think everyone just thinks because we're tennis players we should be the greatest of friends.But ultimately tennis is just a very small part of what we do. There are so many other things that we're interested in, that we do.\"\"\""
      ],
      "metadata": {
        "id": "XWulEJIPvjxm"
      },
      "execution_count": null,
      "outputs": []
    },
    {
      "cell_type": "code",
      "source": [
        "len(text)"
      ],
      "metadata": {
        "colab": {
          "base_uri": "https://localhost:8080/"
        },
        "id": "SLB11zV7w8XW",
        "outputId": "91f58804-58cf-4aab-efa9-d43771374c06"
      },
      "execution_count": null,
      "outputs": [
        {
          "output_type": "execute_result",
          "data": {
            "text/plain": [
              "1548"
            ]
          },
          "metadata": {},
          "execution_count": 2
        }
      ]
    },
    {
      "cell_type": "markdown",
      "source": [
        "# 1)Importing Library and Dataset"
      ],
      "metadata": {
        "id": "H9W7JqHnvlaD"
      }
    },
    {
      "cell_type": "code",
      "source": [
        "import spacy\n",
        "from spacy.lang.en.stop_words import STOP_WORDS\n",
        "from string import punctuation "
      ],
      "metadata": {
        "id": "HN-3du4BvqYg"
      },
      "execution_count": null,
      "outputs": []
    },
    {
      "cell_type": "code",
      "source": [
        "nlp=spacy.load('en_core_web_sm')"
      ],
      "metadata": {
        "id": "bPFXDkq4vqiK"
      },
      "execution_count": null,
      "outputs": []
    },
    {
      "cell_type": "code",
      "source": [
        "doc=nlp(text)"
      ],
      "metadata": {
        "id": "dPZuxyJGx4pe"
      },
      "execution_count": null,
      "outputs": []
    },
    {
      "cell_type": "code",
      "source": [
        "#tokenization\n",
        "tokens=[token.text for token in doc]\n",
        "print(tokens)"
      ],
      "metadata": {
        "colab": {
          "base_uri": "https://localhost:8080/"
        },
        "id": "7Ymb7UOLx-Y3",
        "outputId": "8a6a94ea-091d-4fc2-ad23-ada2b9d277d8"
      },
      "execution_count": null,
      "outputs": [
        {
          "output_type": "stream",
          "name": "stdout",
          "text": [
            "['Maria', 'Sharapova', 'has', 'basically', 'no', 'friends', 'as', 'tennis', 'players', 'on', 'the', 'WTA', 'Tour', '.', 'The', 'Russian', 'has', 'no', 'problems', 'in', 'openly', 'speaking', 'about', 'it', 'and', 'in', 'a', 'recent', 'interview', 'she', 'said', ':', \"'\", 'I', 'do', \"n't\", 'really', 'hide', 'any', 'feelings', 'too', 'much', '.', '\\n', 'I', 'think', 'everyone', 'knows', 'this', 'is', 'my', 'job', 'here', '.', 'When', 'I', \"'m\", 'on', 'the', 'courts', 'or', 'when', 'I', \"'m\", 'on', 'the', 'court', 'playing', ',', 'I', \"'m\", 'a', 'competitor', 'and', 'I', 'want', 'to', 'beat', 'every', 'single', 'person', 'whether', 'they', \"'re\", 'in', 'the', 'locker', 'room', 'or', 'across', 'the', 'net', '.', '\\n', 'So', 'I', \"'m\", 'not', 'the', 'one', 'to', 'strike', 'up', 'a', 'conversation', 'about', 'the', 'weather', 'and', 'know', 'that', 'in', 'the', 'next', 'few', 'minutes', 'I', 'have', 'to', 'go', 'and', 'try', 'to', 'win', 'a', 'tennis', 'match', '.', 'I', \"'m\", 'a', 'pretty', 'competitive', 'girl', '.', 'I', 'say', 'my', 'hellos', ',', 'but', 'I', \"'m\", 'not', 'sending', 'any', 'players', 'flowers', 'as', 'well', '.', '\\n', 'I', \"'m\", 'not', 'really', 'friendly', 'or', 'close', 'to', 'many', 'players', '.', 'I', 'have', 'not', 'a', 'lot', 'of', 'friends', 'away', 'from', 'the', 'courts', '.', \"'\", 'When', 'she', 'said', 'she', 'is', 'not', 'really', 'close', 'to', 'a', 'lot', 'of', 'players', ',', 'is', 'that', 'something', 'strategic', 'that', 'she', 'is', 'doing', '?', 'Is', 'it', 'different', 'on', 'the', 'men', \"'s\", 'tour', 'than', 'the', 'women', \"'s\", 'tour', '?', \"'\", 'No', ',', 'not', 'at', 'all', '.', '\\n', 'I', 'think', 'just', 'because', 'you', \"'re\", 'in', 'the', 'same', 'sport', 'does', \"n't\", 'mean', 'that', 'you', 'have', 'to', 'be', 'friends', 'with', 'everyone', 'just', 'because', 'you', \"'re\", 'categorized', ',', 'you', \"'re\", 'a', 'tennis', 'player', ',', 'so', 'you', \"'re\", 'going', 'to', 'get', 'along', 'with', 'tennis', 'players', '.', '\\n', 'I', 'think', 'every', 'person', 'has', 'different', 'interests', '.', 'I', 'have', 'friends', 'that', 'have', 'completely', 'different', 'jobs', 'and', 'interests', ',', 'and', 'I', \"'ve\", 'met', 'them', 'in', 'very', 'different', 'parts', 'of', 'my', 'life', '.', 'I', 'think', 'everyone', 'just', 'thinks', 'because', 'we', \"'re\", 'tennis', 'players', 'we', 'should', 'be', 'the', 'greatest', 'of', 'friends', '.', 'But', 'ultimately', 'tennis', 'is', 'just', 'a', 'very', 'small', 'part', 'of', 'what', 'we', 'do', '.', 'There', 'are', 'so', 'many', 'other', 'things', 'that', 'we', \"'re\", 'interested', 'in', ',', 'that', 'we', 'do', '.']\n"
          ]
        }
      ]
    },
    {
      "cell_type": "code",
      "source": [
        "punctuation=punctuation+'\\n' #start a new line"
      ],
      "metadata": {
        "id": "XM6jXjRNyT3F"
      },
      "execution_count": null,
      "outputs": []
    },
    {
      "cell_type": "code",
      "source": [
        "punctuation "
      ],
      "metadata": {
        "colab": {
          "base_uri": "https://localhost:8080/",
          "height": 37
        },
        "id": "FhM01w8qyUAb",
        "outputId": "bb571a64-51ca-4927-e9fa-fe083a2940af"
      },
      "execution_count": null,
      "outputs": [
        {
          "output_type": "execute_result",
          "data": {
            "text/plain": [
              "'!\"#$%&\\'()*+,-./:;<=>?@[\\\\]^_`{|}~\\n'"
            ],
            "application/vnd.google.colaboratory.intrinsic+json": {
              "type": "string"
            }
          },
          "metadata": {},
          "execution_count": 8
        }
      ]
    },
    {
      "cell_type": "markdown",
      "source": [
        "# 2)Text Cleaning"
      ],
      "metadata": {
        "id": "WHbuod7qvqsY"
      }
    },
    {
      "cell_type": "code",
      "source": [
        "#create words fruqence\n",
        "word_freq={}\n",
        "stop_words=list(STOP_WORDS)\n",
        "for word in doc:\n",
        "  if word.text.lower() not in stop_words:\n",
        "    if word.text.lower() not in punctuation:\n",
        "      if word.text not in word_freq.keys():\n",
        "        word_freq[word.text]=1\n",
        "      else:\n",
        "        word_freq[word.text] +=1 #accumulate the word frequency"
      ],
      "metadata": {
        "id": "L5hLvl4jvuAv"
      },
      "execution_count": null,
      "outputs": []
    },
    {
      "cell_type": "code",
      "source": [
        " print(word_freq)"
      ],
      "metadata": {
        "colab": {
          "base_uri": "https://localhost:8080/"
        },
        "id": "KvZOm7UXK5u-",
        "outputId": "46f02508-6945-4ee8-8c12-e7477f793638"
      },
      "execution_count": null,
      "outputs": [
        {
          "output_type": "stream",
          "name": "stdout",
          "text": [
            "{'Maria': 1, 'Sharapova': 1, 'basically': 1, 'friends': 5, 'tennis': 6, 'players': 6, 'WTA': 1, 'Tour': 1, 'Russian': 1, 'problems': 1, 'openly': 1, 'speaking': 1, 'recent': 1, 'interview': 1, 'said': 2, 'hide': 1, 'feelings': 1, 'think': 4, 'knows': 1, 'job': 1, 'courts': 2, 'court': 1, 'playing': 1, 'competitor': 1, 'want': 1, 'beat': 1, 'single': 1, 'person': 2, 'locker': 1, 'room': 1, 'net': 1, 'strike': 1, 'conversation': 1, 'weather': 1, 'know': 1, 'minutes': 1, 'try': 1, 'win': 1, 'match': 1, 'pretty': 1, 'competitive': 1, 'girl': 1, 'hellos': 1, 'sending': 1, 'flowers': 1, 'friendly': 1, 'close': 2, 'lot': 2, 'away': 1, 'strategic': 1, 'different': 4, 'men': 1, 'tour': 2, 'women': 1, 'sport': 1, 'mean': 1, 'categorized': 1, 'player': 1, 'going': 1, 'interests': 2, 'completely': 1, 'jobs': 1, 'met': 1, 'parts': 1, 'life': 1, 'thinks': 1, 'greatest': 1, 'ultimately': 1, 'small': 1, 'things': 1, 'interested': 1}\n"
          ]
        }
      ]
    },
    {
      "cell_type": "code",
      "source": [
        "max(word_freq.values())"
      ],
      "metadata": {
        "colab": {
          "base_uri": "https://localhost:8080/"
        },
        "id": "nmtnMNdfK5xW",
        "outputId": "16e3ced9-c67f-4d8d-bbc2-f35283a9571d"
      },
      "execution_count": null,
      "outputs": [
        {
          "output_type": "execute_result",
          "data": {
            "text/plain": [
              "6"
            ]
          },
          "metadata": {},
          "execution_count": 13
        }
      ]
    },
    {
      "cell_type": "code",
      "source": [
        "for word in word_freq:\n",
        "  word_freq[word]=word_freq[word]/max(word_freq.values())"
      ],
      "metadata": {
        "id": "U5icNZ8lK50I"
      },
      "execution_count": null,
      "outputs": []
    },
    {
      "cell_type": "code",
      "source": [
        "print(word_freq)"
      ],
      "metadata": {
        "colab": {
          "base_uri": "https://localhost:8080/"
        },
        "id": "HOlGS-E-K51r",
        "outputId": "48dc4a33-c239-4204-cdff-fb95112c50b4"
      },
      "execution_count": null,
      "outputs": [
        {
          "output_type": "stream",
          "name": "stdout",
          "text": [
            "{'Maria': 0.16666666666666666, 'Sharapova': 0.16666666666666666, 'basically': 0.16666666666666666, 'friends': 0.8333333333333334, 'tennis': 1.0, 'players': 1.0, 'WTA': 0.25, 'Tour': 0.25, 'Russian': 0.25, 'problems': 0.25, 'openly': 0.25, 'speaking': 0.25, 'recent': 0.25, 'interview': 0.25, 'said': 0.5, 'hide': 0.25, 'feelings': 0.25, 'think': 1.0, 'knows': 0.25, 'job': 0.25, 'courts': 0.5, 'court': 0.25, 'playing': 0.25, 'competitor': 0.25, 'want': 0.25, 'beat': 0.25, 'single': 0.25, 'person': 0.5, 'locker': 0.25, 'room': 0.25, 'net': 0.25, 'strike': 0.25, 'conversation': 0.25, 'weather': 0.25, 'know': 0.25, 'minutes': 0.25, 'try': 0.25, 'win': 0.25, 'match': 0.25, 'pretty': 0.25, 'competitive': 0.25, 'girl': 0.25, 'hellos': 0.25, 'sending': 0.25, 'flowers': 0.25, 'friendly': 0.25, 'close': 0.5, 'lot': 0.5, 'away': 0.25, 'strategic': 0.25, 'different': 1.0, 'men': 0.5, 'tour': 1.0, 'women': 0.5, 'sport': 0.5, 'mean': 0.5, 'categorized': 0.5, 'player': 0.5, 'going': 0.5, 'interests': 1.0, 'completely': 1.0, 'jobs': 1.0, 'met': 1.0, 'parts': 1.0, 'life': 1.0, 'thinks': 1.0, 'greatest': 1.0, 'ultimately': 1.0, 'small': 1.0, 'things': 1.0, 'interested': 1.0}\n"
          ]
        }
      ]
    },
    {
      "cell_type": "markdown",
      "source": [
        "# 3)Sentence Tokenization"
      ],
      "metadata": {
        "id": "OTaWOfxlym4k"
      }
    },
    {
      "cell_type": "code",
      "source": [
        "sent_tokens=[sent for sent in doc.sents]\n",
        "print(sent_tokens) #get the individual sentence as a one single value"
      ],
      "metadata": {
        "id": "K6p6m06uvuI7",
        "colab": {
          "base_uri": "https://localhost:8080/"
        },
        "outputId": "e0b1ff6e-5268-4e01-c60c-8c9bdb67d559"
      },
      "execution_count": 16,
      "outputs": [
        {
          "output_type": "stream",
          "name": "stdout",
          "text": [
            "[Maria Sharapova has basically no friends as tennis players on the WTA Tour., The Russian has no problems in openly speaking about it and in a recent interview she said: 'I don't really hide any feelings too much.\n",
            ", I think everyone knows this is my job here., When I'm on the courts or when I'm on the court playing, I'm a competitor and I want to beat every single person whether they're in the locker room or across the net.\n",
            ", So I'm not the one to strike up a conversation about the weather and know that in the next few minutes I have to go and try to win a tennis match., I'm a pretty competitive girl., I say my hellos, but I'm not sending any players flowers as well.\n",
            ", I'm not really friendly or close to many players., I have not a lot of friends away from the courts.', When she said she is not really close to a lot of players, is that something strategic that she is doing?, Is it different on the men's tour than the women's tour?, 'No, not at all.\n",
            ", I think just because you're in the same sport doesn't mean that you have to be friends with everyone just because you're categorized, you're a tennis player, so you're going to get along with tennis players.\n",
            ", I think every person has different interests., I have friends that have completely different jobs and interests, and I've met them in very different parts of my life., I think everyone just thinks because we're tennis players we should be the greatest of friends., But ultimately tennis is just a very small part of what we do., There are so many other things that we're interested in, that we do.]\n"
          ]
        }
      ]
    },
    {
      "cell_type": "code",
      "source": [
        "#get the sentence score\n",
        "sent_score={}\n",
        "\n",
        "for sent in sent_tokens:\n",
        "  for word in sent:\n",
        "    #find whether these words exist in dictionary\n",
        "    if word.text.lower() in word_freq.keys():\n",
        "      if sent not in sent_score.keys():\n",
        "        sent_score[sent]=word_freq[word.text.lower()]\n",
        "      else:\n",
        "        sent_score[sent]+=word_freq[word.text.lower()]\n"
      ],
      "metadata": {
        "id": "xu8y7sUCM6bf"
      },
      "execution_count": 17,
      "outputs": []
    },
    {
      "cell_type": "code",
      "source": [
        "print(sent_score)"
      ],
      "metadata": {
        "colab": {
          "base_uri": "https://localhost:8080/"
        },
        "id": "QJeMaFigPCkF",
        "outputId": "2634c82a-5299-4c72-88ad-9e0f510a3359"
      },
      "execution_count": 18,
      "outputs": [
        {
          "output_type": "stream",
          "name": "stdout",
          "text": [
            "{Maria Sharapova has basically no friends as tennis players on the WTA Tour.: 4.0, The Russian has no problems in openly speaking about it and in a recent interview she said: 'I don't really hide any feelings too much.\n",
            ": 2.25, I think everyone knows this is my job here.: 1.5, When I'm on the courts or when I'm on the court playing, I'm a competitor and I want to beat every single person whether they're in the locker room or across the net.\n",
            ": 3.25, So I'm not the one to strike up a conversation about the weather and know that in the next few minutes I have to go and try to win a tennis match.: 3.0, I'm a pretty competitive girl.: 0.75, I say my hellos, but I'm not sending any players flowers as well.\n",
            ": 1.75, I'm not really friendly or close to many players.: 1.75, I have not a lot of friends away from the courts.': 2.0833333333333335, When she said she is not really close to a lot of players, is that something strategic that she is doing?: 2.75, Is it different on the men's tour than the women's tour?: 4.0, I think just because you're in the same sport doesn't mean that you have to be friends with everyone just because you're categorized, you're a tennis player, so you're going to get along with tennis players.\n",
            ": 7.333333333333334, I think every person has different interests.: 3.5, I have friends that have completely different jobs and interests, and I've met them in very different parts of my life.: 8.833333333333334, I think everyone just thinks because we're tennis players we should be the greatest of friends.: 5.833333333333333, But ultimately tennis is just a very small part of what we do.: 3.0, There are so many other things that we're interested in, that we do.: 2.0}\n"
          ]
        }
      ]
    },
    {
      "cell_type": "markdown",
      "source": [
        "🌟Sentence Scoring:https://www.irjet.net/archives/V4/i5/IRJET-V4I5493.pdf\n",
        "- Finding the *frequent* terms, sentence ranking\n",
        "- Summary is extracted from the list of top ranked sentences, extracting important information.\n",
        "- Pre-Processing, Sentence Scoring, Sentence\n",
        "Ranking, Summary Extraction\n",
        "- Sentence score is evaluated from linear combination of\n",
        "multiple parameters like **frequency, sentence position, cue\n",
        "words, similarity with title, sentence length and proper\n",
        "noun** aspects.\n",
        "\n"
      ],
      "metadata": {
        "id": "WK3o-SuHUgsL"
      }
    },
    {
      "cell_type": "markdown",
      "source": [
        "# 4)Select 30% sentences with maximum score"
      ],
      "metadata": {
        "id": "hw6WI3JkKnlV"
      }
    },
    {
      "cell_type": "code",
      "source": [
        "from heapq import nlargest\n",
        "len(sent_score)*0.3"
      ],
      "metadata": {
        "id": "iSI2IMQUKxA0",
        "colab": {
          "base_uri": "https://localhost:8080/"
        },
        "outputId": "df0209f0-b796-4fe6-f918-52fc98ef2d93"
      },
      "execution_count": 21,
      "outputs": [
        {
          "output_type": "execute_result",
          "data": {
            "text/plain": [
              "5.1"
            ]
          },
          "metadata": {},
          "execution_count": 21
        }
      ]
    },
    {
      "cell_type": "code",
      "source": [
        "6"
      ],
      "metadata": {
        "id": "XfJASg9sKxN5",
        "colab": {
          "base_uri": "https://localhost:8080/"
        },
        "outputId": "65e54b96-15e2-4328-d138-facd1911940d"
      },
      "execution_count": 22,
      "outputs": [
        {
          "output_type": "execute_result",
          "data": {
            "text/plain": [
              "6"
            ]
          },
          "metadata": {},
          "execution_count": 22
        }
      ]
    },
    {
      "cell_type": "markdown",
      "source": [
        "# 5)Getting the Summary"
      ],
      "metadata": {
        "id": "GeZt1bFAM82C"
      }
    },
    {
      "cell_type": "code",
      "source": [
        "summary=nlargest(n=6,iterable=sent_score,key=sent_score.get)"
      ],
      "metadata": {
        "id": "CN2yM7LjM_9Q"
      },
      "execution_count": 23,
      "outputs": []
    },
    {
      "cell_type": "code",
      "source": [
        "print(summary)"
      ],
      "metadata": {
        "id": "0kH7UodUNAAB",
        "colab": {
          "base_uri": "https://localhost:8080/"
        },
        "outputId": "de86a667-2296-4793-819d-5246a28999fa"
      },
      "execution_count": 24,
      "outputs": [
        {
          "output_type": "stream",
          "name": "stdout",
          "text": [
            "[I have friends that have completely different jobs and interests, and I've met them in very different parts of my life., I think just because you're in the same sport doesn't mean that you have to be friends with everyone just because you're categorized, you're a tennis player, so you're going to get along with tennis players.\n",
            ", I think everyone just thinks because we're tennis players we should be the greatest of friends., Maria Sharapova has basically no friends as tennis players on the WTA Tour., Is it different on the men's tour than the women's tour?, I think every person has different interests.]\n"
          ]
        }
      ]
    },
    {
      "cell_type": "code",
      "source": [
        "#combine these important sentence together\n",
        "final_summary=[word.text for word in summary]"
      ],
      "metadata": {
        "id": "JJXGj1C7W5En"
      },
      "execution_count": 25,
      "outputs": []
    },
    {
      "cell_type": "code",
      "source": [
        "print(final_summary)"
      ],
      "metadata": {
        "colab": {
          "base_uri": "https://localhost:8080/"
        },
        "id": "3y-9lTXRW5LM",
        "outputId": "8ad15d8a-31a2-46d7-91b7-68063ca1606b"
      },
      "execution_count": 26,
      "outputs": [
        {
          "output_type": "stream",
          "name": "stdout",
          "text": [
            "[\"I have friends that have completely different jobs and interests, and I've met them in very different parts of my life.\", \"I think just because you're in the same sport doesn't mean that you have to be friends with everyone just because you're categorized, you're a tennis player, so you're going to get along with tennis players.\\n\", \"I think everyone just thinks because we're tennis players we should be the greatest of friends.\", 'Maria Sharapova has basically no friends as tennis players on the WTA Tour.', \"Is it different on the men's tour than the women's tour?\", 'I think every person has different interests.']\n"
          ]
        }
      ]
    },
    {
      "cell_type": "code",
      "source": [
        "summary=\"\".join(final_summary)"
      ],
      "metadata": {
        "id": "Bpu1wiHVXOME"
      },
      "execution_count": 27,
      "outputs": []
    },
    {
      "cell_type": "code",
      "source": [
        "print(summary)"
      ],
      "metadata": {
        "colab": {
          "base_uri": "https://localhost:8080/"
        },
        "id": "IBuu6sW5XTsP",
        "outputId": "c41161b8-ed58-4c45-ce76-b6dfdd140a29"
      },
      "execution_count": 28,
      "outputs": [
        {
          "output_type": "stream",
          "name": "stdout",
          "text": [
            "I have friends that have completely different jobs and interests, and I've met them in very different parts of my life.I think just because you're in the same sport doesn't mean that you have to be friends with everyone just because you're categorized, you're a tennis player, so you're going to get along with tennis players.\n",
            "I think everyone just thinks because we're tennis players we should be the greatest of friends.Maria Sharapova has basically no friends as tennis players on the WTA Tour.Is it different on the men's tour than the women's tour?I think every person has different interests.\n"
          ]
        }
      ]
    },
    {
      "cell_type": "code",
      "source": [
        "len(summary)"
      ],
      "metadata": {
        "colab": {
          "base_uri": "https://localhost:8080/"
        },
        "id": "G7EaEkswXWOB",
        "outputId": "4b602a3d-6c34-40ec-958b-107f4c337500"
      },
      "execution_count": 29,
      "outputs": [
        {
          "output_type": "execute_result",
          "data": {
            "text/plain": [
              "598"
            ]
          },
          "metadata": {},
          "execution_count": 29
        }
      ]
    },
    {
      "cell_type": "code",
      "source": [
        "len(summary)/len(text)"
      ],
      "metadata": {
        "colab": {
          "base_uri": "https://localhost:8080/"
        },
        "id": "r1XQGCnxXZBf",
        "outputId": "bb585af9-a5e3-47ad-a90b-d4dad0e4a68d"
      },
      "execution_count": 30,
      "outputs": [
        {
          "output_type": "execute_result",
          "data": {
            "text/plain": [
              "0.3863049095607235"
            ]
          },
          "metadata": {},
          "execution_count": 30
        }
      ]
    }
  ]
}